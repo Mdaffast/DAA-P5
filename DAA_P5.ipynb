{
  "nbformat": 4,
  "nbformat_minor": 0,
  "metadata": {
    "colab": {
      "provenance": []
    },
    "kernelspec": {
      "name": "python3",
      "display_name": "Python 3"
    },
    "language_info": {
      "name": "python"
    }
  },
  "cells": [
    {
      "cell_type": "code",
      "execution_count": 1,
      "metadata": {
        "id": "8EMQeoUtsP82"
      },
      "outputs": [],
      "source": [
        "def countInversion(arr):\n",
        "  result=0\n",
        "  for i in range(len(arr)):\n",
        "    for j in range(i+1,len(arr)):\n",
        "      if arr[i]>arr[j]:\n",
        "        result+=1\n",
        "  return result"
      ]
    },
    {
      "cell_type": "code",
      "source": [
        "arr=[21, 70, 36, 14, 25]\n",
        "result=countInversion(arr)\n",
        "print(result)"
      ],
      "metadata": {
        "colab": {
          "base_uri": "https://localhost:8080/"
        },
        "id": "T3aupqSTsTs3",
        "outputId": "54628fc8-9778-4928-fc0a-d0e9137493ca"
      },
      "execution_count": 2,
      "outputs": [
        {
          "output_type": "stream",
          "name": "stdout",
          "text": [
            "6\n"
          ]
        }
      ]
    },
    {
      "cell_type": "code",
      "source": [
        "def countInversion(arr):\n",
        "  icount=0\n",
        "  if len(arr)<=1:\n",
        "    return icount\n",
        "\n",
        "  mid=len(arr)//2\n",
        "  left=arr[:mid]\n",
        "  right=arr[mid:]\n",
        "  icount+=countInversion(left)\n",
        "  icount+=countInversion(right)\n",
        "  i=j=k=0\n",
        "\n",
        "  #print(left)\n",
        "  #print(right)\n",
        "  while i<len(left) and j<len(right):\n",
        "    if left[i]<right[j]:\n",
        "        arr[k]=left[i]\n",
        "        i+=1\n",
        "    else:\n",
        "      #print(left[i],right[j])\n",
        "        arr[k]=right[j]\n",
        "        j+=1\n",
        "        icount+=(mid-i)\n",
        "    k+=1\n",
        "\n",
        "  while i<len(left):\n",
        "    arr[k]=left[i]\n",
        "    i+=1\n",
        "    k+=1\n",
        "  while j<len(right):\n",
        "    arr[k]=right[j]\n",
        "    j+=1\n",
        "    k+=1\n",
        "\n",
        "  return icount"
      ],
      "metadata": {
        "id": "3SNDJAZ_sTzE"
      },
      "execution_count": 3,
      "outputs": []
    },
    {
      "cell_type": "code",
      "source": [
        "arr=[1, 20, 6, 4, 5]\n",
        "result = countInversion(arr)\n",
        "print(result)"
      ],
      "metadata": {
        "colab": {
          "base_uri": "https://localhost:8080/"
        },
        "id": "oe_K7mOYsT1i",
        "outputId": "e7f6d785-7547-4107-a2ca-101ab3ac8101"
      },
      "execution_count": 4,
      "outputs": [
        {
          "output_type": "stream",
          "name": "stdout",
          "text": [
            "5\n"
          ]
        }
      ]
    },
    {
      "cell_type": "code",
      "source": [
        "def maxSubSum(arr):\n",
        "  max_so_far=0\n",
        "  max_ending_here=0\n",
        "  for i in range(len(arr)):\n",
        "    max_ending_here+=arr[i]\n",
        "    if max_ending_here>max_so_far:\n",
        "      max_so_far=max_ending_here\n",
        "    if max_ending_here<0:\n",
        "      max_ending_here=0\n",
        "  return max_so_far"
      ],
      "metadata": {
        "id": "LHQClsP9sT3t"
      },
      "execution_count": 6,
      "outputs": []
    },
    {
      "cell_type": "code",
      "source": [
        "arr=[-2, -5, 6, -2, -3, 1, 5, -6]\n",
        "result=maxSubSum(arr)\n",
        "print(result)"
      ],
      "metadata": {
        "colab": {
          "base_uri": "https://localhost:8080/"
        },
        "id": "p4mytoBssT6L",
        "outputId": "87a7e955-e52f-4fd4-b7ac-39000ae196fd"
      },
      "execution_count": 7,
      "outputs": [
        {
          "output_type": "stream",
          "name": "stdout",
          "text": [
            "7\n"
          ]
        }
      ]
    },
    {
      "cell_type": "code",
      "source": [
        "def maxCrossingSum(arr,low,mid,high):\n",
        "  result=0; leftSum=float('-infinity')\n",
        "  for i in range(mid,low-1,-1):\n",
        "    result+=arr[i]\n",
        "    if result>leftSum:\n",
        "      leftSum=result\n",
        "  result=0; rightSum=float('-infinity')\n",
        "  for i in range(mid+1,high+1):\n",
        "    result+=arr[i]\n",
        "    if result>rightSum:\n",
        "      rightSum=result\n",
        "  return leftSum+rightSum\n",
        "\n",
        "\n",
        "def maxSum(arr,low,high):\n",
        "  if low==high:\n",
        "    return arr[low]\n",
        "  mid=(low+high)//2\n",
        "  return max(maxSum(arr,low,mid),maxSum(arr,mid+1,high), maxCrossingSum(arr,low,mid,high))"
      ],
      "metadata": {
        "id": "yf_DDMHKsT8l"
      },
      "execution_count": 8,
      "outputs": []
    },
    {
      "cell_type": "code",
      "source": [
        "arr=[-2, -5, 6, -2, -3, 1, 5, -6]\n",
        "result=maxSum(arr,0,len(arr)-1)\n",
        "print(result)"
      ],
      "metadata": {
        "colab": {
          "base_uri": "https://localhost:8080/"
        },
        "id": "ujWZnukL_ugD",
        "outputId": "8745a239-e11d-4ea0-9b01-a251fa8acf35"
      },
      "execution_count": 10,
      "outputs": [
        {
          "output_type": "stream",
          "name": "stdout",
          "text": [
            "7\n"
          ]
        }
      ]
    },
    {
      "cell_type": "code",
      "source": [
        "def commonPrefix(str1,str2):\n",
        "    n1=len(str1);n2=len(str2)\n",
        "    i,j=0,0\n",
        "    s=\"\"\n",
        "    while i<n1 and j<n2:\n",
        "        if str1[i]==str2[j]:\n",
        "            s+=str1[i]\n",
        "            i+=1\n",
        "            j+=1\n",
        "        else:\n",
        "            break\n",
        "    return s"
      ],
      "metadata": {
        "id": "4y07cRcu_ukS"
      },
      "execution_count": 11,
      "outputs": []
    },
    {
      "cell_type": "code",
      "source": [
        "def longestCommonPrefix(arr,low,high):\n",
        "    if low==high:\n",
        "        return arr[low]\n",
        "    mid=(low+high)//2\n",
        "    result1=longestCommonPrefix(arr,low,mid)\n",
        "    result2=longestCommonPrefix(arr,mid+1,high)\n",
        "    result=commonPrefix(result1,result2)\n",
        "    return result"
      ],
      "metadata": {
        "id": "dx5RRyMi_upS"
      },
      "execution_count": 14,
      "outputs": []
    },
    {
      "cell_type": "code",
      "source": [
        "arr=['geeksforgeeks','geeks','geek','geezer']\n",
        "result=longestCommonPrefix(arr,0,len(arr)-1)\n",
        "print(result)"
      ],
      "metadata": {
        "colab": {
          "base_uri": "https://localhost:8080/"
        },
        "id": "UJ655WmDACkS",
        "outputId": "09980c01-e31d-481c-98ae-a0834fc22833"
      },
      "execution_count": 17,
      "outputs": [
        {
          "output_type": "stream",
          "name": "stdout",
          "text": [
            "gee\n"
          ]
        }
      ]
    },
    {
      "cell_type": "code",
      "source": [
        "arr=[\"apple\", \"ape\", \"april\"]\n",
        "result=longestCommonPrefix(arr,0,len(arr)-1)\n",
        "print(result)"
      ],
      "metadata": {
        "colab": {
          "base_uri": "https://localhost:8080/"
        },
        "id": "J82vaD7qACnm",
        "outputId": "f995c66a-e150-4672-e186-2c18338ff5a8"
      },
      "execution_count": 16,
      "outputs": [
        {
          "output_type": "stream",
          "name": "stdout",
          "text": [
            "ap\n"
          ]
        }
      ]
    },
    {
      "cell_type": "code",
      "source": [
        "def medianofArray(arr1,arr2,n):\n",
        "  m1=-1\n",
        "  m2=-1\n",
        "  count=0\n",
        "  i=j=0\n",
        "  while count<n+1:\n",
        "    count+=1\n",
        "    if i==n:\n",
        "      m1=m2\n",
        "      m2=arr2[0]\n",
        "      break\n",
        "    if j==n:\n",
        "      m1=m2\n",
        "      m2=arr1[0]\n",
        "      break\n",
        "    if arr1[i]<arr2[j]:\n",
        "      m1=m2\n",
        "      m2=arr1[i]\n",
        "      i+=1\n",
        "    else:\n",
        "      m1=m2\n",
        "      m2=arr2[j]\n",
        "      j+=1\n",
        "  return (m1+m2)//2"
      ],
      "metadata": {
        "id": "NaaRtIVkACq8"
      },
      "execution_count": 18,
      "outputs": []
    },
    {
      "cell_type": "code",
      "source": [
        "arr1=[1,12,15,26,38]\n",
        "arr2=[2,13,17,30,45]\n",
        "print(medianofArray(arr1,arr2,len(arr1)))"
      ],
      "metadata": {
        "colab": {
          "base_uri": "https://localhost:8080/"
        },
        "id": "YPtSK9gEACud",
        "outputId": "5b5aa433-1e48-41c5-b0de-84704e69aa09"
      },
      "execution_count": 19,
      "outputs": [
        {
          "output_type": "stream",
          "name": "stdout",
          "text": [
            "16\n"
          ]
        }
      ]
    },
    {
      "cell_type": "code",
      "source": [
        "def floorSorted(arr,low,high,x):\n",
        "    #print(low,high)\n",
        "    if low>high:\n",
        "        return -1\n",
        "    \n",
        "    if arr[low]>x:\n",
        "        #print(\"inside\")\n",
        "        return -1\n",
        "    \n",
        "    if arr[high]<=x:\n",
        "        return arr[high]\n",
        "    \n",
        "    mid = (low+high)//2\n",
        "    \n",
        "    if arr[mid]==x:\n",
        "        return arr[mid]\n",
        "    \n",
        "    if mid>0 and x>=arr[mid-1] and arr[mid]>x:\n",
        "        return arr[mid-1]\n",
        "    \n",
        "    if mid<high and x<arr[mid+1] and x>= arr[mid]:\n",
        "        return arr[mid]\n",
        "    \n",
        "    if x>arr[mid]:\n",
        "        return floorSorted(arr, mid+1, high, x)\n",
        "    else:\n",
        "        return floorSorted(arr,low,mid-1,x)"
      ],
      "metadata": {
        "id": "OyYD2L1kAEOU"
      },
      "execution_count": 20,
      "outputs": []
    },
    {
      "cell_type": "code",
      "source": [
        "arr=[1,2,8,10,12,14,19]\n",
        "x=5\n",
        "print(floorSorted(arr,0,len(arr)-1,x))"
      ],
      "metadata": {
        "colab": {
          "base_uri": "https://localhost:8080/"
        },
        "id": "Nw53nUcVAEYZ",
        "outputId": "a577cdef-5416-4e4e-b5ce-025ddefc9988"
      },
      "execution_count": 21,
      "outputs": [
        {
          "output_type": "stream",
          "name": "stdout",
          "text": [
            "2\n"
          ]
        }
      ]
    },
    {
      "cell_type": "code",
      "source": [
        "def closestNumber(arr,low,high,x):\n",
        "  if low>high:\n",
        "    return -1\n",
        "  if arr[high]<=x:\n",
        "    return arr[high]\n",
        "  if arr[low]>=x:\n",
        "    return arr[low]\n",
        "  mid=(low+high)//2\n",
        "  if arr[mid]==x:\n",
        "    return arr[mid]\n",
        "  abs_mid=abs(arr[mid]-x)\n",
        "  if mid>0:\n",
        "    abs_left=abs(arr[mid-1]-x)\n",
        "    if abs_left<abs_mid:\n",
        "      return closestNumber(arr,low,mid-1,x)\n",
        "  if mid<high:\n",
        "    abs_right=abs(arr[mid+1]-x)\n",
        "    if abs_right<abs_mid:\n",
        "      return closestNumber(arr,mid+1,high,x)\n",
        "  #print('after)\n",
        "  return arr[mid]"
      ],
      "metadata": {
        "id": "YSdkwoeCK2Go"
      },
      "execution_count": 22,
      "outputs": []
    },
    {
      "cell_type": "code",
      "source": [
        "arr=[2,5,6,7,8,9]\n",
        "x=9\n",
        "print(closestNumber(arr,0,len(arr)-1,x))"
      ],
      "metadata": {
        "colab": {
          "base_uri": "https://localhost:8080/"
        },
        "id": "dIoK0fmPK8ZL",
        "outputId": "2da7ea23-224b-4387-a3ce-9526c3daff55"
      },
      "execution_count": 23,
      "outputs": [
        {
          "output_type": "stream",
          "name": "stdout",
          "text": [
            "9\n"
          ]
        }
      ]
    },
    {
      "cell_type": "code",
      "source": [
        "def fixedPoint(arr,low,high):\n",
        "  if low>high:\n",
        "    return -1\n",
        "  if arr[high]==high:\n",
        "    return arr[high]\n",
        "  if arr[low]==low:\n",
        "    return arr[low]\n",
        "  mid=(low+high)//2\n",
        "  if arr[mid]==mid:\n",
        "    return arr[mid]\n",
        "  if mid>arr[mid]:\n",
        "    return fixedPoint(arr,mid+1,high)\n",
        "  else:\n",
        "    return fixedPoint(arr,low,mid-1)"
      ],
      "metadata": {
        "id": "9akMwxkfK8gE"
      },
      "execution_count": 24,
      "outputs": []
    },
    {
      "cell_type": "code",
      "source": [
        "\n",
        "arr=[9,1,2,5,2]\n",
        "print(fixedPoint(arr,0,len(arr)-1))"
      ],
      "metadata": {
        "colab": {
          "base_uri": "https://localhost:8080/"
        },
        "id": "wrn4Svl4LAfi",
        "outputId": "6962602b-bec3-4622-83c2-5f46f441aaa0"
      },
      "execution_count": 25,
      "outputs": [
        {
          "output_type": "stream",
          "name": "stdout",
          "text": [
            "2\n"
          ]
        }
      ]
    }
  ]
}